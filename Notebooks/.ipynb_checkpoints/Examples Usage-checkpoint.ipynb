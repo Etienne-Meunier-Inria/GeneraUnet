{
 "cells": [
  {
   "cell_type": "code",
   "execution_count": 1,
   "metadata": {},
   "outputs": [],
   "source": [
    "import sys, torch, netron\n",
    "sys.path.append('../../')\n",
    "from GeneralUnet.u2D_2D import Unet2D_2D\n",
    "from GeneralUnet.u3D_3D import Unet3D_3D\n",
    "from GeneralUnet.u3D_3D_MaskFormer import MaskFormer3D"
   ]
  },
  {
   "cell_type": "markdown",
   "metadata": {},
   "source": [
    "## Unet 2D"
   ]
  },
  {
   "cell_type": "code",
   "execution_count": 2,
   "metadata": {},
   "outputs": [
    {
     "name": "stdout",
     "output_type": "stream",
     "text": [
      "Num layers : 3 Features Start : 32 Padding Mode : zeros\n"
     ]
    }
   ],
   "source": [
    "u2d = Unet2D_2D(num_classes=2, input_channels=3, num_layers=3, features_start=32,\n",
    "             padding_mode='zeros', train_bn=True, inner_normalisation='BatchNorm',\n",
    "             transformer_positional='Learnable', bilinear=True)"
   ]
  },
  {
   "cell_type": "code",
   "execution_count": 3,
   "metadata": {},
   "outputs": [],
   "source": [
    "dummy_input =  torch.randn((10 ,3, 30,50))\n",
    "out, hidden = u2d(dummy_input)"
   ]
  },
  {
   "cell_type": "markdown",
   "metadata": {},
   "source": [
    "## Unet 3D"
   ]
  },
  {
   "cell_type": "code",
   "execution_count": 4,
   "metadata": {},
   "outputs": [
    {
     "name": "stdout",
     "output_type": "stream",
     "text": [
      "Num layers : 3 Features Start : 32 Padding Mode : zeros\n"
     ]
    }
   ],
   "source": [
    "u3d = Unet3D_3D(num_classes=2, input_channels=3, num_layers=3, features_start=32,\n",
    "             padding_mode='zeros', train_bn=True, inner_normalisation='BatchNorm',\n",
    "             transformer_positional='Learnable')"
   ]
  },
  {
   "cell_type": "code",
   "execution_count": 5,
   "metadata": {},
   "outputs": [],
   "source": [
    "dummy_input =  torch.randn((10 ,3, 5, 30,50))\n",
    "out, hidden = u3d(dummy_input)"
   ]
  },
  {
   "cell_type": "markdown",
   "metadata": {},
   "source": [
    "## MaskFormer 3D"
   ]
  },
  {
   "cell_type": "code",
   "execution_count": 6,
   "metadata": {},
   "outputs": [
    {
     "name": "stdout",
     "output_type": "stream",
     "text": [
      "Num layers : 3 Features Start : 32 Padding Mode : zeros\n",
      "Using maskformer version mf1\n",
      "Init final layer as Identity\n"
     ]
    }
   ],
   "source": [
    "mu3d = MaskFormer3D(num_classes=2, input_channels=3, num_layers=3, features_start=32,\n",
    "                    padding_mode='zeros', train_bn=True, inner_normalisation='BatchNorm',\n",
    "                    transformer_positional='Learnable', maskformer_version='mf1')"
   ]
  },
  {
   "cell_type": "code",
   "execution_count": 7,
   "metadata": {},
   "outputs": [
    {
     "name": "stdout",
     "output_type": "stream",
     "text": [
      "Set grid : (5, 7, 12)\n"
     ]
    }
   ],
   "source": [
    "dummy_input =  torch.randn((10 ,3, 5, 30,50))\n",
    "out, hidden = mu3d(dummy_input)"
   ]
  }
 ],
 "metadata": {
  "kernelspec": {
   "display_name": "Python 3 (ipykernel)",
   "language": "python",
   "name": "python3"
  },
  "language_info": {
   "codemirror_mode": {
    "name": "ipython",
    "version": 3
   },
   "file_extension": ".py",
   "mimetype": "text/x-python",
   "name": "python",
   "nbconvert_exporter": "python",
   "pygments_lexer": "ipython3",
   "version": "3.9.9"
  }
 },
 "nbformat": 4,
 "nbformat_minor": 4
}
